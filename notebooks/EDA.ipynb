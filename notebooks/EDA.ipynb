{
 "cells": [
  {
   "cell_type": "code",
   "execution_count": null,
   "id": "7491027f",
   "metadata": {},
   "outputs": [],
   "source": [
    "import pandas as pd\n",
    "import plotly.express as px"
   ]
  },
  {
   "cell_type": "code",
   "execution_count": null,
   "id": "af419612",
   "metadata": {},
   "outputs": [],
   "source": [
    "data = pd.read_csv('../vehicles_us.csv') # lendo os dados"
   ]
  },
  {
   "cell_type": "code",
   "execution_count": null,
   "id": "cf0c6eac",
   "metadata": {},
   "outputs": [],
   "source": [
    "data['manufacturer'] = data['model'].str.split().str[0] # criar uma coluna de montadoras"
   ]
  },
  {
   "cell_type": "code",
   "execution_count": null,
   "id": "e1d3722d",
   "metadata": {},
   "outputs": [],
   "source": [
    "data['manufacturer'].value_counts() # observando a frequência de anúncios por montadora"
   ]
  },
  {
   "cell_type": "markdown",
   "id": "045137af",
   "metadata": {},
   "source": [
    "Notamos que as montadoras Ford e Chevrolet predominam entre os veículos anunciados para venda."
   ]
  },
  {
   "cell_type": "code",
   "execution_count": null,
   "id": "25bdd816",
   "metadata": {},
   "outputs": [],
   "source": [
    "fig = px.histogram(data, x=\"odometer\") # criar um histograma\n",
    "fig.show()"
   ]
  },
  {
   "cell_type": "markdown",
   "id": "721346b7",
   "metadata": {},
   "source": [
    "Observamos uma grande concentração de veículos anunciados com o hodômetro marcando entre 100.000 e 120.000 milhas rodadas."
   ]
  },
  {
   "cell_type": "code",
   "execution_count": null,
   "id": "adf81d40",
   "metadata": {},
   "outputs": [],
   "source": [
    "fig = px.scatter(data, x=\"odometer\", y=\"price\") # criar um gráfico de dispersão\n",
    "fig.show() # exibindo"
   ]
  },
  {
   "cell_type": "markdown",
   "id": "5f45f657",
   "metadata": {},
   "source": [
    "Em relação aos preços, notamos que, à medida que o total de milhas rodadas aumenta, há uma depreciação no valor do veículo."
   ]
  },
  {
   "cell_type": "code",
   "execution_count": null,
   "id": "5a603ab5",
   "metadata": {},
   "outputs": [],
   "source": [
    "fig = px.histogram(data, x=\"manufacturer\") # criar um histograma\n",
    "fig.show()"
   ]
  },
  {
   "cell_type": "markdown",
   "id": "ad219443",
   "metadata": {},
   "source": [
    "Por fim, observamos novamente uma disparidade no total de anúncios de carros das marcas Ford e Chevrolet. Por outro lado, a Mercedes-Benz possui uma quantia irrelevante de veículos anunciados no período estudado."
   ]
  },
  {
   "cell_type": "code",
   "execution_count": null,
   "id": "5c8f37b8",
   "metadata": {},
   "outputs": [],
   "source": []
  }
 ],
 "metadata": {
  "kernelspec": {
   "display_name": "mm_env",
   "language": "python",
   "name": "python3"
  },
  "language_info": {
   "codemirror_mode": {
    "name": "ipython",
    "version": 3
   },
   "file_extension": ".py",
   "mimetype": "text/x-python",
   "name": "python",
   "nbconvert_exporter": "python",
   "pygments_lexer": "ipython3",
   "version": "3.13.3"
  }
 },
 "nbformat": 4,
 "nbformat_minor": 5
}
